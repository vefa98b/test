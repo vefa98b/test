{
 "cells": [
  {
   "cell_type": "code",
   "execution_count": 1,
   "id": "b780446d",
   "metadata": {},
   "outputs": [
    {
     "data": {
      "text/plain": [
       "1"
      ]
     },
     "execution_count": 1,
     "metadata": {},
     "output_type": "execute_result"
    }
   ],
   "source": [
    "1"
   ]
  },
  {
   "cell_type": "code",
   "execution_count": 72,
   "id": "74bf1e42",
   "metadata": {},
   "outputs": [],
   "source": [
    "class car(vehicle):\n",
    "    def __init__(self,year,mpg,speed,maxspeed,color,seating_capacity):\n",
    "        super().__init__(maxspeed,color,seating_capacity)\n",
    "        self.year=year\n",
    "        self.mpg=mpg\n",
    "        self.speed=speed\n",
    "    def newmethod(self):\n",
    "        print(self.year,self.mpg,self.speed,self.maxspeed,self.color,self.seating_capacity)\n",
    "    def accelerate(self,speed_change):\n",
    "        self.speed+=speed_change\n",
    "    def brake(self,speed_change):\n",
    "        self.speed-=speed_change\n"
   ]
  },
  {
   "cell_type": "code",
   "execution_count": 73,
   "id": "af5e39b8",
   "metadata": {},
   "outputs": [],
   "source": [
    "bmw=car(2023,5,90,350,\"grey\",7)\n"
   ]
  },
  {
   "cell_type": "code",
   "execution_count": 74,
   "id": "cf8df99d",
   "metadata": {},
   "outputs": [
    {
     "name": "stdout",
     "output_type": "stream",
     "text": [
      "2023 5 90 350 grey 7\n"
     ]
    }
   ],
   "source": [
    "bmw.newmethod()"
   ]
  },
  {
   "cell_type": "code",
   "execution_count": 71,
   "id": "bc93798a",
   "metadata": {},
   "outputs": [],
   "source": [
    "class vehicle:\n",
    "    def __init__(self,maxspeed,color,seating_capacity):\n",
    "        self.maxspeed=maxspeed\n",
    "        self.seating_capacity=seating_capacity\n",
    "        self.fare=self.seating_capacity*35\n",
    "        self.color=color\n",
    "    def newmethod(self):\n",
    "        print(self.maxspeed,self.color)\n",
    "        "
   ]
  },
  {
   "cell_type": "code",
   "execution_count": 81,
   "id": "c570ff95",
   "metadata": {},
   "outputs": [],
   "source": [
    "class bus(vehicle):\n",
    "    __tiresnum=8\n",
    "    def __init__(self,year,mpg,speed,maxspeed,color,seating_capacity,number):\n",
    "        super().__init__(maxspeed,color,seating_capacity)\n",
    "        self.number=number\n",
    "        self.year=year\n",
    "        self.mpg=mpg\n",
    "        self.speed=speed\n",
    "    def newmethod(self):\n",
    "        print(self.year,self.mpg,self.speed,self.maxspeed,self.color,self.seating_capacity,self.number)\n",
    "    def accelerate(self,speed_change):\n",
    "        self.speed+=speed_change\n",
    "    def brake(self,speed_change):\n",
    "        self.speed-=speed_change\n"
   ]
  },
  {
   "cell_type": "code",
   "execution_count": 82,
   "id": "3431e2f7",
   "metadata": {},
   "outputs": [],
   "source": [
    "bus1=bus(2010,9,65,90,'red',40,'81a')"
   ]
  },
  {
   "cell_type": "code",
   "execution_count": 86,
   "id": "4ef6427a",
   "metadata": {},
   "outputs": [
    {
     "name": "stdout",
     "output_type": "stream",
     "text": [
      "2010 9 65 90 red 40 81a\n"
     ]
    }
   ],
   "source": [
    "bus1.newmethod()"
   ]
  },
  {
   "cell_type": "code",
   "execution_count": null,
   "id": "b438798e",
   "metadata": {},
   "outputs": [],
   "source": []
  }
 ],
 "metadata": {
  "kernelspec": {
   "display_name": "Python 3 (ipykernel)",
   "language": "python",
   "name": "python3"
  },
  "language_info": {
   "codemirror_mode": {
    "name": "ipython",
    "version": 3
   },
   "file_extension": ".py",
   "mimetype": "text/x-python",
   "name": "python",
   "nbconvert_exporter": "python",
   "pygments_lexer": "ipython3",
   "version": "3.11.5"
  }
 },
 "nbformat": 4,
 "nbformat_minor": 5
}
